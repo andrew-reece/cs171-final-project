{
 "metadata": {
  "name": ""
 },
 "nbformat": 3,
 "nbformat_minor": 0,
 "worksheets": [
  {
   "cells": [
    {
     "cell_type": "code",
     "collapsed": false,
     "input": [
      "import pandas as pd\n",
      "import numpy as np\n",
      "import re\n",
      "import datetime"
     ],
     "language": "python",
     "metadata": {},
     "outputs": [],
     "prompt_number": 1
    },
    {
     "cell_type": "code",
     "collapsed": false,
     "input": [
      "proxdata = pd.io.parsers.read_csv('../data/Proximity.csv')\n",
      "calldata = pd.io.parsers.read_csv('../data/Calls.csv')\n",
      "smsdata = pd.io.parsers.read_csv('../data/SMS.csv')"
     ],
     "language": "python",
     "metadata": {},
     "outputs": [],
     "prompt_number": 2
    },
    {
     "cell_type": "code",
     "collapsed": false,
     "input": [
      "smsdata.columns = [\"user_id\",\"time\",\"incoming\",\"dest_user_id_if_known\",\"dest_phone_hash\"]\n",
      "smsdata['type'] = ['sms']*len(smsdata)\n",
      "calldata['type'] = ['call']*len(calldata)\n",
      "calldata=calldata.rename(columns = {'time_stamp':'time'})"
     ],
     "language": "python",
     "metadata": {},
     "outputs": [],
     "prompt_number": 3
    },
    {
     "cell_type": "code",
     "collapsed": false,
     "input": [
      "smsdata.head()"
     ],
     "language": "python",
     "metadata": {},
     "outputs": [
      {
       "html": [
        "<div style=\"max-height:1000px;max-width:1500px;overflow:auto;\">\n",
        "<table border=\"1\" class=\"dataframe\">\n",
        "  <thead>\n",
        "    <tr style=\"text-align: right;\">\n",
        "      <th></th>\n",
        "      <th>user_id</th>\n",
        "      <th>time</th>\n",
        "      <th>incoming</th>\n",
        "      <th>dest_user_id_if_known</th>\n",
        "      <th>dest_phone_hash</th>\n",
        "      <th>type</th>\n",
        "    </tr>\n",
        "  </thead>\n",
        "  <tbody>\n",
        "    <tr>\n",
        "      <th>0</th>\n",
        "      <td> 61</td>\n",
        "      <td> 2008-01-01 15:00:25</td>\n",
        "      <td> 0</td>\n",
        "      <td>  1</td>\n",
        "      <td> 3502965008</td>\n",
        "      <td> sms</td>\n",
        "    </tr>\n",
        "    <tr>\n",
        "      <th>1</th>\n",
        "      <td> 61</td>\n",
        "      <td> 2008-01-01 15:00:25</td>\n",
        "      <td> 0</td>\n",
        "      <td> 61</td>\n",
        "      <td> 3480933661</td>\n",
        "      <td> sms</td>\n",
        "    </tr>\n",
        "    <tr>\n",
        "      <th>2</th>\n",
        "      <td> 61</td>\n",
        "      <td> 2008-01-01 15:00:25</td>\n",
        "      <td> 1</td>\n",
        "      <td>  1</td>\n",
        "      <td> 3502965008</td>\n",
        "      <td> sms</td>\n",
        "    </tr>\n",
        "    <tr>\n",
        "      <th>3</th>\n",
        "      <td> 61</td>\n",
        "      <td> 2008-01-01 15:00:25</td>\n",
        "      <td> 1</td>\n",
        "      <td>NaN</td>\n",
        "      <td>     177622</td>\n",
        "      <td> sms</td>\n",
        "    </tr>\n",
        "    <tr>\n",
        "      <th>4</th>\n",
        "      <td> 61</td>\n",
        "      <td> 2008-01-01 15:00:25</td>\n",
        "      <td> 1</td>\n",
        "      <td> 61</td>\n",
        "      <td> 3480933661</td>\n",
        "      <td> sms</td>\n",
        "    </tr>\n",
        "  </tbody>\n",
        "</table>\n",
        "</div>"
       ],
       "metadata": {},
       "output_type": "pyout",
       "prompt_number": 4,
       "text": [
        "   user_id                 time  incoming  dest_user_id_if_known  \\\n",
        "0       61  2008-01-01 15:00:25         0                      1   \n",
        "1       61  2008-01-01 15:00:25         0                     61   \n",
        "2       61  2008-01-01 15:00:25         1                      1   \n",
        "3       61  2008-01-01 15:00:25         1                    NaN   \n",
        "4       61  2008-01-01 15:00:25         1                     61   \n",
        "\n",
        "  dest_phone_hash type  \n",
        "0      3502965008  sms  \n",
        "1      3480933661  sms  \n",
        "2      3502965008  sms  \n",
        "3          177622  sms  \n",
        "4      3480933661  sms  "
       ]
      }
     ],
     "prompt_number": 4
    },
    {
     "cell_type": "code",
     "collapsed": false,
     "input": [
      "calldata.head()"
     ],
     "language": "python",
     "metadata": {},
     "outputs": [
      {
       "html": [
        "<div style=\"max-height:1000px;max-width:1500px;overflow:auto;\">\n",
        "<table border=\"1\" class=\"dataframe\">\n",
        "  <thead>\n",
        "    <tr style=\"text-align: right;\">\n",
        "      <th></th>\n",
        "      <th>user_id</th>\n",
        "      <th>time</th>\n",
        "      <th>duration</th>\n",
        "      <th>dest_user_id_if_known</th>\n",
        "      <th>dest_phone_hash</th>\n",
        "      <th>type</th>\n",
        "    </tr>\n",
        "  </thead>\n",
        "  <tbody>\n",
        "    <tr>\n",
        "      <th>0</th>\n",
        "      <td> 19</td>\n",
        "      <td> 2008-10-02 22:04:28</td>\n",
        "      <td>  15</td>\n",
        "      <td>NaN</td>\n",
        "      <td> 2088297235</td>\n",
        "      <td> call</td>\n",
        "    </tr>\n",
        "    <tr>\n",
        "      <th>1</th>\n",
        "      <td> 19</td>\n",
        "      <td> 2008-10-02 22:03:57</td>\n",
        "      <td>  17</td>\n",
        "      <td>NaN</td>\n",
        "      <td> 2088297235</td>\n",
        "      <td> call</td>\n",
        "    </tr>\n",
        "    <tr>\n",
        "      <th>2</th>\n",
        "      <td> 19</td>\n",
        "      <td> 2008-10-03 00:42:55</td>\n",
        "      <td> 421</td>\n",
        "      <td>NaN</td>\n",
        "      <td> 2939471263</td>\n",
        "      <td> call</td>\n",
        "    </tr>\n",
        "    <tr>\n",
        "      <th>3</th>\n",
        "      <td> 19</td>\n",
        "      <td> 2008-10-03 00:42:06</td>\n",
        "      <td>   0</td>\n",
        "      <td>NaN</td>\n",
        "      <td> 2088297235</td>\n",
        "      <td> call</td>\n",
        "    </tr>\n",
        "    <tr>\n",
        "      <th>4</th>\n",
        "      <td> 19</td>\n",
        "      <td> 2008-10-03 03:47:31</td>\n",
        "      <td>  47</td>\n",
        "      <td> 18</td>\n",
        "      <td> 3620995333</td>\n",
        "      <td> call</td>\n",
        "    </tr>\n",
        "  </tbody>\n",
        "</table>\n",
        "</div>"
       ],
       "metadata": {},
       "output_type": "pyout",
       "prompt_number": 5,
       "text": [
        "   user_id                 time  duration  dest_user_id_if_known  \\\n",
        "0       19  2008-10-02 22:04:28        15                    NaN   \n",
        "1       19  2008-10-02 22:03:57        17                    NaN   \n",
        "2       19  2008-10-03 00:42:55       421                    NaN   \n",
        "3       19  2008-10-03 00:42:06         0                    NaN   \n",
        "4       19  2008-10-03 03:47:31        47                     18   \n",
        "\n",
        "  dest_phone_hash  type  \n",
        "0      2088297235  call  \n",
        "1      2088297235  call  \n",
        "2      2939471263  call  \n",
        "3      2088297235  call  \n",
        "4      3620995333  call  "
       ]
      }
     ],
     "prompt_number": 5
    },
    {
     "cell_type": "code",
     "collapsed": false,
     "input": [
      "comdata = pd.concat([calldata, smsdata])\n",
      " \n",
      "comdata=comdata.rename(columns = {'dest_user_id_if_known':'target_id'})\n",
      "comdata = comdata.reset_index()\n",
      "comdata['time'] = [datetime.datetime.strptime(stamp, \"%Y-%m-%d %H:%M:%S\") for stamp in comdata['time']]\n"
     ],
     "language": "python",
     "metadata": {},
     "outputs": [],
     "prompt_number": 6
    },
    {
     "cell_type": "code",
     "collapsed": false,
     "input": [
      "\n",
      "mintime = comdata.time.min(axis=1)\n",
      "maxtime = comdata.time.max(axis=1)\n",
      "two_weeks = datetime.timedelta(days=14)\n",
      "\n",
      "time_array = []\n",
      "current_time = mintime\n",
      "while current_time < maxtime:\n",
      "    time_array.append(current_time)\n",
      "    current_time += two_weeks\n",
      "    "
     ],
     "language": "python",
     "metadata": {},
     "outputs": [],
     "prompt_number": 7
    },
    {
     "cell_type": "code",
     "collapsed": false,
     "input": [
      "comtable = set()\n",
      "\n",
      "for idx, row in comdata.iterrows():\n",
      "\n",
      "    if (not np.isnan(row['user_id'])) and (not np.isnan(row['target_id'])):\n",
      "        \n",
      "        newtuple = (row['user_id'], row['target_id'])\n",
      "\n",
      "        comtable.add( newtuple )\n"
     ],
     "language": "python",
     "metadata": {},
     "outputs": [],
     "prompt_number": 8
    },
    {
     "cell_type": "code",
     "collapsed": false,
     "input": [
      "pairs = []\n",
      "for pair in comtable:\n",
      "    pairs.append( { 'source':pair[0], 'target':pair[1], 'total_freq':0 } )\n",
      "pair_df = pd.DataFrame(pairs)"
     ],
     "language": "python",
     "metadata": {},
     "outputs": [],
     "prompt_number": 38
    },
    {
     "cell_type": "code",
     "collapsed": false,
     "input": [
      "for time_chunk in time_array:\n",
      "    pair_df[datetime.datetime.strftime(time_chunk,\"%Y-%m-%d %H:%M:%S\")] = 0"
     ],
     "language": "python",
     "metadata": {},
     "outputs": [],
     "prompt_number": 39
    },
    {
     "cell_type": "code",
     "collapsed": false,
     "input": [
      "print pair_df.iloc[1:5,1:10]"
     ],
     "language": "python",
     "metadata": {},
     "outputs": [
      {
       "output_type": "stream",
       "stream": "stdout",
       "text": [
        "   target  total_freq  2008-01-01 15:00:25  2008-01-15 15:00:25  \\\n",
        "1      74           0                    0                    0   \n",
        "2      68           0                    0                    0   \n",
        "3      19           0                    0                    0   \n",
        "4      38           0                    0                    0   \n",
        "\n",
        "   2008-01-29 15:00:25  2008-02-12 15:00:25  2008-02-26 15:00:25  \\\n",
        "1                    0                    0                    0   \n",
        "2                    0                    0                    0   \n",
        "3                    0                    0                    0   \n",
        "4                    0                    0                    0   \n",
        "\n",
        "   2008-03-11 15:00:25  2008-03-25 15:00:25  \n",
        "1                    0                    0  \n",
        "2                    0                    0  \n",
        "3                    0                    0  \n",
        "4                    0                    0  \n"
       ]
      }
     ],
     "prompt_number": 40
    },
    {
     "cell_type": "code",
     "collapsed": false,
     "input": [
      "counter = 0\n",
      "for idx, com_row in comdata.iterrows():\n",
      "\n",
      "    if len(pair_df.ix[\n",
      "                      (pair_df['source']==com_row['user_id']) & \n",
      "                      (pair_df['target']==com_row['target_id'])\n",
      "                      ]) > 0:\n",
      "\n",
      "        pair_df.ix[\n",
      "                   (pair_df['source']==com_row['user_id']) & \n",
      "                   (pair_df['target']==com_row['target_id']), 'total_freq'\n",
      "                   ] += 1\n",
      "        \n",
      "\n",
      "        for this_time in time_array:\n",
      "            time_str = datetime.datetime.strftime(this_time,\"%Y-%m-%d %H:%M:%S\")\n",
      "            if com_row['time'] <= this_time:\n",
      "               \n",
      "                pair_df.ix[\n",
      "                   (pair_df['source']==com_row['user_id']) & \n",
      "                   (pair_df['target']==com_row['target_id']), time_str\n",
      "                   ] += 1\n",
      "            else:\n",
      "                #print 'not less than'\n",
      "                #break\n",
      "                continue\n",
      "                              "
     ],
     "language": "python",
     "metadata": {},
     "outputs": [],
     "prompt_number": 48
    },
    {
     "cell_type": "code",
     "collapsed": false,
     "input": [
      "pair_df.shape\n",
      "pair_df.iloc[200:220,30:40]"
     ],
     "language": "python",
     "metadata": {},
     "outputs": [
      {
       "html": [
        "<div style=\"max-height:1000px;max-width:1500px;overflow:auto;\">\n",
        "<table border=\"1\" class=\"dataframe\">\n",
        "  <thead>\n",
        "    <tr style=\"text-align: right;\">\n",
        "      <th></th>\n",
        "      <th>2009-01-13 15:00:25</th>\n",
        "      <th>2009-01-27 15:00:25</th>\n",
        "      <th>2009-02-10 15:00:25</th>\n",
        "      <th>2009-02-24 15:00:25</th>\n",
        "      <th>2009-03-10 15:00:25</th>\n",
        "      <th>2009-03-24 15:00:25</th>\n",
        "      <th>2009-04-07 15:00:25</th>\n",
        "      <th>2009-04-21 15:00:25</th>\n",
        "      <th>2009-05-05 15:00:25</th>\n",
        "      <th>2009-05-19 15:00:25</th>\n",
        "    </tr>\n",
        "  </thead>\n",
        "  <tbody>\n",
        "    <tr>\n",
        "      <th>200</th>\n",
        "      <td>   12</td>\n",
        "      <td>   40</td>\n",
        "      <td>   40</td>\n",
        "      <td>   40</td>\n",
        "      <td>   40</td>\n",
        "      <td>   40</td>\n",
        "      <td>   40</td>\n",
        "      <td>   40</td>\n",
        "      <td>   40</td>\n",
        "      <td>   40</td>\n",
        "    </tr>\n",
        "    <tr>\n",
        "      <th>201</th>\n",
        "      <td>    3</td>\n",
        "      <td>    3</td>\n",
        "      <td>    3</td>\n",
        "      <td>    3</td>\n",
        "      <td>    3</td>\n",
        "      <td>    3</td>\n",
        "      <td>    3</td>\n",
        "      <td>    3</td>\n",
        "      <td>    3</td>\n",
        "      <td>    3</td>\n",
        "    </tr>\n",
        "    <tr>\n",
        "      <th>202</th>\n",
        "      <td>   40</td>\n",
        "      <td>   40</td>\n",
        "      <td>   40</td>\n",
        "      <td>   40</td>\n",
        "      <td>   46</td>\n",
        "      <td>   46</td>\n",
        "      <td>   46</td>\n",
        "      <td>   46</td>\n",
        "      <td>   46</td>\n",
        "      <td>   46</td>\n",
        "    </tr>\n",
        "    <tr>\n",
        "      <th>203</th>\n",
        "      <td>   61</td>\n",
        "      <td>   77</td>\n",
        "      <td>   81</td>\n",
        "      <td>   85</td>\n",
        "      <td>   93</td>\n",
        "      <td>   93</td>\n",
        "      <td>   93</td>\n",
        "      <td>   93</td>\n",
        "      <td>   93</td>\n",
        "      <td>   93</td>\n",
        "    </tr>\n",
        "    <tr>\n",
        "      <th>204</th>\n",
        "      <td> 2692</td>\n",
        "      <td> 2881</td>\n",
        "      <td> 3092</td>\n",
        "      <td> 3316</td>\n",
        "      <td> 3445</td>\n",
        "      <td> 3578</td>\n",
        "      <td> 3774</td>\n",
        "      <td> 3923</td>\n",
        "      <td> 4095</td>\n",
        "      <td> 4232</td>\n",
        "    </tr>\n",
        "    <tr>\n",
        "      <th>205</th>\n",
        "      <td>   24</td>\n",
        "      <td>   24</td>\n",
        "      <td>   24</td>\n",
        "      <td>   24</td>\n",
        "      <td>   24</td>\n",
        "      <td>   24</td>\n",
        "      <td>   24</td>\n",
        "      <td>   24</td>\n",
        "      <td>   24</td>\n",
        "      <td>   24</td>\n",
        "    </tr>\n",
        "    <tr>\n",
        "      <th>206</th>\n",
        "      <td>   88</td>\n",
        "      <td>   92</td>\n",
        "      <td>  100</td>\n",
        "      <td>  100</td>\n",
        "      <td>  100</td>\n",
        "      <td>  100</td>\n",
        "      <td>  102</td>\n",
        "      <td>  104</td>\n",
        "      <td>  118</td>\n",
        "      <td>  124</td>\n",
        "    </tr>\n",
        "    <tr>\n",
        "      <th>207</th>\n",
        "      <td>    0</td>\n",
        "      <td>    0</td>\n",
        "      <td>    0</td>\n",
        "      <td>    0</td>\n",
        "      <td>    2</td>\n",
        "      <td>    2</td>\n",
        "      <td>    2</td>\n",
        "      <td>    2</td>\n",
        "      <td>    2</td>\n",
        "      <td>    2</td>\n",
        "    </tr>\n",
        "    <tr>\n",
        "      <th>208</th>\n",
        "      <td>   71</td>\n",
        "      <td>   71</td>\n",
        "      <td>   71</td>\n",
        "      <td>   71</td>\n",
        "      <td>   71</td>\n",
        "      <td>   71</td>\n",
        "      <td>   71</td>\n",
        "      <td>   71</td>\n",
        "      <td>   71</td>\n",
        "      <td>   71</td>\n",
        "    </tr>\n",
        "    <tr>\n",
        "      <th>209</th>\n",
        "      <td>    0</td>\n",
        "      <td>    0</td>\n",
        "      <td>    0</td>\n",
        "      <td>    2</td>\n",
        "      <td>   16</td>\n",
        "      <td>   16</td>\n",
        "      <td>   16</td>\n",
        "      <td>   16</td>\n",
        "      <td>   16</td>\n",
        "      <td>   16</td>\n",
        "    </tr>\n",
        "    <tr>\n",
        "      <th>210</th>\n",
        "      <td>    2</td>\n",
        "      <td>    2</td>\n",
        "      <td>    2</td>\n",
        "      <td>    2</td>\n",
        "      <td>    2</td>\n",
        "      <td>    2</td>\n",
        "      <td>    2</td>\n",
        "      <td>    2</td>\n",
        "      <td>    2</td>\n",
        "      <td>    2</td>\n",
        "    </tr>\n",
        "    <tr>\n",
        "      <th>211</th>\n",
        "      <td>   38</td>\n",
        "      <td>   40</td>\n",
        "      <td>   97</td>\n",
        "      <td>   97</td>\n",
        "      <td>   97</td>\n",
        "      <td>   97</td>\n",
        "      <td>   97</td>\n",
        "      <td>   97</td>\n",
        "      <td>   97</td>\n",
        "      <td>   97</td>\n",
        "    </tr>\n",
        "    <tr>\n",
        "      <th>212</th>\n",
        "      <td>    2</td>\n",
        "      <td>    2</td>\n",
        "      <td>    2</td>\n",
        "      <td>    2</td>\n",
        "      <td>    2</td>\n",
        "      <td>    2</td>\n",
        "      <td>    2</td>\n",
        "      <td>    2</td>\n",
        "      <td>    2</td>\n",
        "      <td>    2</td>\n",
        "    </tr>\n",
        "    <tr>\n",
        "      <th>213</th>\n",
        "      <td>    0</td>\n",
        "      <td>    0</td>\n",
        "      <td>    0</td>\n",
        "      <td>    0</td>\n",
        "      <td>    0</td>\n",
        "      <td>    2</td>\n",
        "      <td>    3</td>\n",
        "      <td>    6</td>\n",
        "      <td>    6</td>\n",
        "      <td>    6</td>\n",
        "    </tr>\n",
        "    <tr>\n",
        "      <th>214</th>\n",
        "      <td>    0</td>\n",
        "      <td>    0</td>\n",
        "      <td>    0</td>\n",
        "      <td>    0</td>\n",
        "      <td>    0</td>\n",
        "      <td>    0</td>\n",
        "      <td>    0</td>\n",
        "      <td>    0</td>\n",
        "      <td>    0</td>\n",
        "      <td>    0</td>\n",
        "    </tr>\n",
        "    <tr>\n",
        "      <th>215</th>\n",
        "      <td>    0</td>\n",
        "      <td>    0</td>\n",
        "      <td>    0</td>\n",
        "      <td>    6</td>\n",
        "      <td>    6</td>\n",
        "      <td>   14</td>\n",
        "      <td>   14</td>\n",
        "      <td>   14</td>\n",
        "      <td>   18</td>\n",
        "      <td>   36</td>\n",
        "    </tr>\n",
        "    <tr>\n",
        "      <th>216</th>\n",
        "      <td>    2</td>\n",
        "      <td>    2</td>\n",
        "      <td>    2</td>\n",
        "      <td>    2</td>\n",
        "      <td>    2</td>\n",
        "      <td>    2</td>\n",
        "      <td>    2</td>\n",
        "      <td>    2</td>\n",
        "      <td>    2</td>\n",
        "      <td>    2</td>\n",
        "    </tr>\n",
        "    <tr>\n",
        "      <th>217</th>\n",
        "      <td>    8</td>\n",
        "      <td>   12</td>\n",
        "      <td>   20</td>\n",
        "      <td>   20</td>\n",
        "      <td>   20</td>\n",
        "      <td>   22</td>\n",
        "      <td>   22</td>\n",
        "      <td>   22</td>\n",
        "      <td>   22</td>\n",
        "      <td>   22</td>\n",
        "    </tr>\n",
        "    <tr>\n",
        "      <th>218</th>\n",
        "      <td>    0</td>\n",
        "      <td>    0</td>\n",
        "      <td>    0</td>\n",
        "      <td>    0</td>\n",
        "      <td>    0</td>\n",
        "      <td>    0</td>\n",
        "      <td>    0</td>\n",
        "      <td>    4</td>\n",
        "      <td>    4</td>\n",
        "      <td>    4</td>\n",
        "    </tr>\n",
        "    <tr>\n",
        "      <th>219</th>\n",
        "      <td>    2</td>\n",
        "      <td>    2</td>\n",
        "      <td>    2</td>\n",
        "      <td>    2</td>\n",
        "      <td>    2</td>\n",
        "      <td>    2</td>\n",
        "      <td>    2</td>\n",
        "      <td>    2</td>\n",
        "      <td>    2</td>\n",
        "      <td>    2</td>\n",
        "    </tr>\n",
        "  </tbody>\n",
        "</table>\n",
        "</div>"
       ],
       "metadata": {},
       "output_type": "pyout",
       "prompt_number": 49,
       "text": [
        "     2009-01-13 15:00:25  2009-01-27 15:00:25  2009-02-10 15:00:25  \\\n",
        "200                   12                   40                   40   \n",
        "201                    3                    3                    3   \n",
        "202                   40                   40                   40   \n",
        "203                   61                   77                   81   \n",
        "204                 2692                 2881                 3092   \n",
        "205                   24                   24                   24   \n",
        "206                   88                   92                  100   \n",
        "207                    0                    0                    0   \n",
        "208                   71                   71                   71   \n",
        "209                    0                    0                    0   \n",
        "210                    2                    2                    2   \n",
        "211                   38                   40                   97   \n",
        "212                    2                    2                    2   \n",
        "213                    0                    0                    0   \n",
        "214                    0                    0                    0   \n",
        "215                    0                    0                    0   \n",
        "216                    2                    2                    2   \n",
        "217                    8                   12                   20   \n",
        "218                    0                    0                    0   \n",
        "219                    2                    2                    2   \n",
        "\n",
        "     2009-02-24 15:00:25  2009-03-10 15:00:25  2009-03-24 15:00:25  \\\n",
        "200                   40                   40                   40   \n",
        "201                    3                    3                    3   \n",
        "202                   40                   46                   46   \n",
        "203                   85                   93                   93   \n",
        "204                 3316                 3445                 3578   \n",
        "205                   24                   24                   24   \n",
        "206                  100                  100                  100   \n",
        "207                    0                    2                    2   \n",
        "208                   71                   71                   71   \n",
        "209                    2                   16                   16   \n",
        "210                    2                    2                    2   \n",
        "211                   97                   97                   97   \n",
        "212                    2                    2                    2   \n",
        "213                    0                    0                    2   \n",
        "214                    0                    0                    0   \n",
        "215                    6                    6                   14   \n",
        "216                    2                    2                    2   \n",
        "217                   20                   20                   22   \n",
        "218                    0                    0                    0   \n",
        "219                    2                    2                    2   \n",
        "\n",
        "     2009-04-07 15:00:25  2009-04-21 15:00:25  2009-05-05 15:00:25  \\\n",
        "200                   40                   40                   40   \n",
        "201                    3                    3                    3   \n",
        "202                   46                   46                   46   \n",
        "203                   93                   93                   93   \n",
        "204                 3774                 3923                 4095   \n",
        "205                   24                   24                   24   \n",
        "206                  102                  104                  118   \n",
        "207                    2                    2                    2   \n",
        "208                   71                   71                   71   \n",
        "209                   16                   16                   16   \n",
        "210                    2                    2                    2   \n",
        "211                   97                   97                   97   \n",
        "212                    2                    2                    2   \n",
        "213                    3                    6                    6   \n",
        "214                    0                    0                    0   \n",
        "215                   14                   14                   18   \n",
        "216                    2                    2                    2   \n",
        "217                   22                   22                   22   \n",
        "218                    0                    4                    4   \n",
        "219                    2                    2                    2   \n",
        "\n",
        "     2009-05-19 15:00:25  \n",
        "200                   40  \n",
        "201                    3  \n",
        "202                   46  \n",
        "203                   93  \n",
        "204                 4232  \n",
        "205                   24  \n",
        "206                  124  \n",
        "207                    2  \n",
        "208                   71  \n",
        "209                   16  \n",
        "210                    2  \n",
        "211                   97  \n",
        "212                    2  \n",
        "213                    6  \n",
        "214                    0  \n",
        "215                   36  \n",
        "216                    2  \n",
        "217                   22  \n",
        "218                    4  \n",
        "219                    2  "
       ]
      }
     ],
     "prompt_number": 49
    },
    {
     "cell_type": "code",
     "collapsed": false,
     "input": [
      "pair_df.to_csv('communication-tally-by-pair-full.csv')"
     ],
     "language": "python",
     "metadata": {},
     "outputs": [],
     "prompt_number": 50
    },
    {
     "cell_type": "code",
     "collapsed": false,
     "input": [
      "pairs_data = pd.io.parsers.read_csv('communication-tally-by-pair-full.csv')"
     ],
     "language": "python",
     "metadata": {},
     "outputs": [],
     "prompt_number": 2
    },
    {
     "cell_type": "code",
     "collapsed": false,
     "input": [
      "pairs_data.columns = [key.split()[0] for key in pairs_data.keys()]"
     ],
     "language": "python",
     "metadata": {},
     "outputs": [],
     "prompt_number": 5
    },
    {
     "cell_type": "code",
     "collapsed": false,
     "input": [
      "pairs_data.to_csv('communication-tally-by-pair-full.csv')"
     ],
     "language": "python",
     "metadata": {},
     "outputs": [],
     "prompt_number": 8
    },
    {
     "cell_type": "code",
     "collapsed": false,
     "input": [
      "proxdata.head()"
     ],
     "language": "python",
     "metadata": {},
     "outputs": [
      {
       "html": [
        "<div style=\"max-height:1000px;max-width:1500px;overflow:auto;\">\n",
        "<table border=\"1\" class=\"dataframe\">\n",
        "  <thead>\n",
        "    <tr style=\"text-align: right;\">\n",
        "      <th></th>\n",
        "      <th>user.id</th>\n",
        "      <th>remote.user.id.if.known</th>\n",
        "      <th>time</th>\n",
        "      <th>prob2</th>\n",
        "    </tr>\n",
        "  </thead>\n",
        "  <tbody>\n",
        "    <tr>\n",
        "      <th>0</th>\n",
        "      <td> 58</td>\n",
        "      <td> 42</td>\n",
        "      <td> 2007-09-05 14:02:11</td>\n",
        "      <td> 0.034</td>\n",
        "    </tr>\n",
        "    <tr>\n",
        "      <th>1</th>\n",
        "      <td> 58</td>\n",
        "      <td> 49</td>\n",
        "      <td> 2007-09-05 14:02:11</td>\n",
        "      <td> 0.000</td>\n",
        "    </tr>\n",
        "    <tr>\n",
        "      <th>2</th>\n",
        "      <td> 58</td>\n",
        "      <td> 54</td>\n",
        "      <td> 2007-09-05 14:02:11</td>\n",
        "      <td>   NaN</td>\n",
        "    </tr>\n",
        "    <tr>\n",
        "      <th>3</th>\n",
        "      <td> 58</td>\n",
        "      <td> 57</td>\n",
        "      <td> 2007-09-05 14:02:11</td>\n",
        "      <td> 0.233</td>\n",
        "    </tr>\n",
        "    <tr>\n",
        "      <th>4</th>\n",
        "      <td> 58</td>\n",
        "      <td> 74</td>\n",
        "      <td> 2007-09-05 14:02:11</td>\n",
        "      <td>   NaN</td>\n",
        "    </tr>\n",
        "  </tbody>\n",
        "</table>\n",
        "</div>"
       ],
       "metadata": {},
       "output_type": "pyout",
       "prompt_number": 3,
       "text": [
        "   user.id  remote.user.id.if.known                 time  prob2\n",
        "0       58                       42  2007-09-05 14:02:11  0.034\n",
        "1       58                       49  2007-09-05 14:02:11  0.000\n",
        "2       58                       54  2007-09-05 14:02:11    NaN\n",
        "3       58                       57  2007-09-05 14:02:11  0.233\n",
        "4       58                       74  2007-09-05 14:02:11    NaN"
       ]
      }
     ],
     "prompt_number": 3
    },
    {
     "cell_type": "code",
     "collapsed": false,
     "input": [
      "proxdata=proxdata.rename(columns = {'user.id':'user_id','remote.user.id.if.known':'target_id'})\n",
      "proxdata['time'] = [datetime.datetime.strptime(stamp, \"%Y-%m-%d %H:%M:%S\") for stamp in proxdata['time']]\n"
     ],
     "language": "python",
     "metadata": {},
     "outputs": [],
     "prompt_number": 4
    },
    {
     "cell_type": "code",
     "collapsed": false,
     "input": [
      "\n",
      "mintime = proxdata.time.min(axis=1)\n",
      "maxtime = proxdata.time.max(axis=1)\n",
      "two_weeks = datetime.timedelta(days=14)\n",
      "\n",
      "time_array = []\n",
      "current_time = mintime\n",
      "while current_time < maxtime:\n",
      "    time_array.append(current_time)\n",
      "    current_time += two_weeks"
     ],
     "language": "python",
     "metadata": {},
     "outputs": [],
     "prompt_number": 5
    },
    {
     "cell_type": "code",
     "collapsed": false,
     "input": [
      "proxtable = set()\n",
      "\n",
      "for idx, row in proxdata.iterrows():\n",
      "\n",
      "    if (not np.isnan(row['user_id'])) and (not np.isnan(row['target_id'])) and (not (row['target_id'],row['user_id']) in proxtable):\n",
      "        newtuple = (row['user_id'], row['target_id'])\n",
      "        proxtable.add( newtuple )\n",
      "\n",
      "proxpairs = []\n",
      "for pair in proxtable:\n",
      "    proxpairs.append( { 'source':pair[0], 'target':pair[1], 'total_freq':0 } )\n",
      "proxpair_df = pd.DataFrame(proxpairs)\n",
      "\n",
      "for time_chunk in time_array:\n",
      "    proxpair_df[datetime.datetime.strftime(time_chunk,\"%Y-%m-%d %H:%M:%S\")] = 0\n"
     ],
     "language": "python",
     "metadata": {},
     "outputs": [],
     "prompt_number": 19
    },
    {
     "cell_type": "code",
     "collapsed": false,
     "input": [
      "# \n",
      "for this_time in time_array:\n",
      "    count = 0     \n",
      "    time_str = datetime.datetime.strftime(this_time,\"%Y-%m-%d %H:%M:%S\")\n",
      "    # print time_str\n",
      "    for keys, group in proxdata[proxdata.time <= this_time].groupby(['user_id','target_id']) :\n",
      "        proxpair_df.ix[\n",
      "           (proxpair_df['source']==keys[0]) & \n",
      "           (proxpair_df['target']==keys[1]), time_str\n",
      "           ] = len(group)"
     ],
     "language": "python",
     "metadata": {},
     "outputs": [
      {
       "output_type": "stream",
       "stream": "stdout",
       "text": [
        "2007-09-05 14:02:11\n",
        "2007-09-19 14:02:11"
       ]
      },
      {
       "output_type": "stream",
       "stream": "stdout",
       "text": [
        "\n",
        "2007-10-03 14:02:11"
       ]
      },
      {
       "output_type": "stream",
       "stream": "stdout",
       "text": [
        "\n",
        "2007-10-17 14:02:11"
       ]
      },
      {
       "output_type": "stream",
       "stream": "stdout",
       "text": [
        "\n",
        "2007-10-31 14:02:11"
       ]
      },
      {
       "output_type": "stream",
       "stream": "stdout",
       "text": [
        "\n",
        "2007-11-14 14:02:11"
       ]
      },
      {
       "output_type": "stream",
       "stream": "stdout",
       "text": [
        "\n",
        "2007-11-28 14:02:11"
       ]
      },
      {
       "output_type": "stream",
       "stream": "stdout",
       "text": [
        "\n",
        "2007-12-12 14:02:11"
       ]
      },
      {
       "output_type": "stream",
       "stream": "stdout",
       "text": [
        "\n",
        "2007-12-26 14:02:11"
       ]
      },
      {
       "output_type": "stream",
       "stream": "stdout",
       "text": [
        "\n",
        "2008-01-09 14:02:11"
       ]
      },
      {
       "output_type": "stream",
       "stream": "stdout",
       "text": [
        "\n",
        "2008-01-23 14:02:11"
       ]
      },
      {
       "output_type": "stream",
       "stream": "stdout",
       "text": [
        "\n",
        "2008-02-06 14:02:11"
       ]
      },
      {
       "output_type": "stream",
       "stream": "stdout",
       "text": [
        "\n",
        "2008-02-20 14:02:11"
       ]
      },
      {
       "output_type": "stream",
       "stream": "stdout",
       "text": [
        "\n",
        "2008-03-05 14:02:11"
       ]
      },
      {
       "output_type": "stream",
       "stream": "stdout",
       "text": [
        "\n",
        "2008-03-19 14:02:11"
       ]
      },
      {
       "output_type": "stream",
       "stream": "stdout",
       "text": [
        "\n",
        "2008-04-02 14:02:11"
       ]
      },
      {
       "output_type": "stream",
       "stream": "stdout",
       "text": [
        "\n",
        "2008-04-16 14:02:11"
       ]
      },
      {
       "output_type": "stream",
       "stream": "stdout",
       "text": [
        "\n",
        "2008-04-30 14:02:11"
       ]
      },
      {
       "output_type": "stream",
       "stream": "stdout",
       "text": [
        "\n",
        "2008-05-14 14:02:11"
       ]
      },
      {
       "output_type": "stream",
       "stream": "stdout",
       "text": [
        "\n",
        "2008-05-28 14:02:11"
       ]
      },
      {
       "output_type": "stream",
       "stream": "stdout",
       "text": [
        "\n",
        "2008-06-11 14:02:11"
       ]
      },
      {
       "output_type": "stream",
       "stream": "stdout",
       "text": [
        "\n",
        "2008-06-25 14:02:11"
       ]
      },
      {
       "output_type": "stream",
       "stream": "stdout",
       "text": [
        "\n",
        "2008-07-09 14:02:11"
       ]
      },
      {
       "output_type": "stream",
       "stream": "stdout",
       "text": [
        "\n",
        "2008-07-23 14:02:11"
       ]
      },
      {
       "output_type": "stream",
       "stream": "stdout",
       "text": [
        "\n",
        "2008-08-06 14:02:11"
       ]
      },
      {
       "output_type": "stream",
       "stream": "stdout",
       "text": [
        "\n",
        "2008-08-20 14:02:11"
       ]
      },
      {
       "output_type": "stream",
       "stream": "stdout",
       "text": [
        "\n",
        "2008-09-03 14:02:11"
       ]
      },
      {
       "output_type": "stream",
       "stream": "stdout",
       "text": [
        "\n",
        "2008-09-17 14:02:11"
       ]
      },
      {
       "output_type": "stream",
       "stream": "stdout",
       "text": [
        "\n",
        "2008-10-01 14:02:11"
       ]
      },
      {
       "output_type": "stream",
       "stream": "stdout",
       "text": [
        "\n",
        "2008-10-15 14:02:11"
       ]
      },
      {
       "output_type": "stream",
       "stream": "stdout",
       "text": [
        "\n",
        "2008-10-29 14:02:11"
       ]
      },
      {
       "output_type": "stream",
       "stream": "stdout",
       "text": [
        "\n",
        "2008-11-12 14:02:11"
       ]
      },
      {
       "output_type": "stream",
       "stream": "stdout",
       "text": [
        "\n",
        "2008-11-26 14:02:11"
       ]
      },
      {
       "output_type": "stream",
       "stream": "stdout",
       "text": [
        "\n",
        "2008-12-10 14:02:11"
       ]
      },
      {
       "output_type": "stream",
       "stream": "stdout",
       "text": [
        "\n",
        "2008-12-24 14:02:11"
       ]
      },
      {
       "output_type": "stream",
       "stream": "stdout",
       "text": [
        "\n",
        "2009-01-07 14:02:11"
       ]
      },
      {
       "output_type": "stream",
       "stream": "stdout",
       "text": [
        "\n",
        "2009-01-21 14:02:11"
       ]
      },
      {
       "output_type": "stream",
       "stream": "stdout",
       "text": [
        "\n",
        "2009-02-04 14:02:11"
       ]
      },
      {
       "output_type": "stream",
       "stream": "stdout",
       "text": [
        "\n",
        "2009-02-18 14:02:11"
       ]
      },
      {
       "output_type": "stream",
       "stream": "stdout",
       "text": [
        "\n",
        "2009-03-04 14:02:11"
       ]
      },
      {
       "output_type": "stream",
       "stream": "stdout",
       "text": [
        "\n",
        "2009-03-18 14:02:11"
       ]
      },
      {
       "output_type": "stream",
       "stream": "stdout",
       "text": [
        "\n",
        "2009-04-01 14:02:11"
       ]
      },
      {
       "output_type": "stream",
       "stream": "stdout",
       "text": [
        "\n",
        "2009-04-15 14:02:11"
       ]
      },
      {
       "output_type": "stream",
       "stream": "stdout",
       "text": [
        "\n",
        "2009-04-29 14:02:11"
       ]
      },
      {
       "output_type": "stream",
       "stream": "stdout",
       "text": [
        "\n",
        "2009-05-13 14:02:11"
       ]
      },
      {
       "output_type": "stream",
       "stream": "stdout",
       "text": [
        "\n",
        "2009-05-27 14:02:11"
       ]
      },
      {
       "output_type": "stream",
       "stream": "stdout",
       "text": [
        "\n",
        "2009-06-10 14:02:11"
       ]
      },
      {
       "output_type": "stream",
       "stream": "stdout",
       "text": [
        "\n",
        "2009-06-24 14:02:11"
       ]
      },
      {
       "output_type": "stream",
       "stream": "stdout",
       "text": [
        "\n",
        "2009-07-08 14:02:11"
       ]
      },
      {
       "output_type": "stream",
       "stream": "stdout",
       "text": [
        "\n"
       ]
      }
     ],
     "prompt_number": 84
    },
    {
     "cell_type": "code",
     "collapsed": false,
     "input": [
      "# get rid of time, leave only date for each column header\n",
      "proxpair_df.columns = [key.split()[0] for key in proxpair_df.keys()]\n"
     ],
     "language": "python",
     "metadata": {},
     "outputs": [],
     "prompt_number": 97
    },
    {
     "cell_type": "code",
     "collapsed": false,
     "input": [
      "# get total freqency of proximity occurrence for each pair\n",
      "for keys, group in proxdata.groupby(['user_id','target_id']) :\n",
      "    proxpair_df.ix[\n",
      "       (proxpair_df['source']==keys[0]) & \n",
      "       (proxpair_df['target']==keys[1]), 'total_freq'\n",
      "       ] = len(group)"
     ],
     "language": "python",
     "metadata": {},
     "outputs": [],
     "prompt_number": 95
    },
    {
     "cell_type": "code",
     "collapsed": false,
     "input": [
      "proxpair_df.iloc[0:25,0:5]"
     ],
     "language": "python",
     "metadata": {},
     "outputs": [
      {
       "html": [
        "<div style=\"max-height:1000px;max-width:1500px;overflow:auto;\">\n",
        "<table border=\"1\" class=\"dataframe\">\n",
        "  <thead>\n",
        "    <tr style=\"text-align: right;\">\n",
        "      <th></th>\n",
        "      <th>source</th>\n",
        "      <th>target</th>\n",
        "      <th>total_freq</th>\n",
        "      <th>2007-09-05</th>\n",
        "      <th>2007-09-19</th>\n",
        "    </tr>\n",
        "  </thead>\n",
        "  <tbody>\n",
        "    <tr>\n",
        "      <th>0 </th>\n",
        "      <td> 31</td>\n",
        "      <td>  6</td>\n",
        "      <td>   27</td>\n",
        "      <td> 0</td>\n",
        "      <td> 0</td>\n",
        "    </tr>\n",
        "    <tr>\n",
        "      <th>1 </th>\n",
        "      <td> 14</td>\n",
        "      <td> 74</td>\n",
        "      <td>   20</td>\n",
        "      <td> 0</td>\n",
        "      <td> 0</td>\n",
        "    </tr>\n",
        "    <tr>\n",
        "      <th>2 </th>\n",
        "      <td>  4</td>\n",
        "      <td> 36</td>\n",
        "      <td> 2876</td>\n",
        "      <td> 0</td>\n",
        "      <td> 0</td>\n",
        "    </tr>\n",
        "    <tr>\n",
        "      <th>3 </th>\n",
        "      <td>  8</td>\n",
        "      <td> 63</td>\n",
        "      <td>  126</td>\n",
        "      <td> 0</td>\n",
        "      <td> 0</td>\n",
        "    </tr>\n",
        "    <tr>\n",
        "      <th>4 </th>\n",
        "      <td> 46</td>\n",
        "      <td> 12</td>\n",
        "      <td>    8</td>\n",
        "      <td> 0</td>\n",
        "      <td> 0</td>\n",
        "    </tr>\n",
        "    <tr>\n",
        "      <th>5 </th>\n",
        "      <td> 29</td>\n",
        "      <td> 44</td>\n",
        "      <td>  519</td>\n",
        "      <td> 0</td>\n",
        "      <td> 0</td>\n",
        "    </tr>\n",
        "    <tr>\n",
        "      <th>6 </th>\n",
        "      <td> 68</td>\n",
        "      <td> 25</td>\n",
        "      <td>    5</td>\n",
        "      <td> 0</td>\n",
        "      <td> 0</td>\n",
        "    </tr>\n",
        "    <tr>\n",
        "      <th>7 </th>\n",
        "      <td> 36</td>\n",
        "      <td> 34</td>\n",
        "      <td>   68</td>\n",
        "      <td> 0</td>\n",
        "      <td> 0</td>\n",
        "    </tr>\n",
        "    <tr>\n",
        "      <th>8 </th>\n",
        "      <td>  2</td>\n",
        "      <td> 78</td>\n",
        "      <td>    3</td>\n",
        "      <td> 0</td>\n",
        "      <td> 0</td>\n",
        "    </tr>\n",
        "    <tr>\n",
        "      <th>9 </th>\n",
        "      <td> 58</td>\n",
        "      <td> 19</td>\n",
        "      <td>    8</td>\n",
        "      <td> 0</td>\n",
        "      <td> 0</td>\n",
        "    </tr>\n",
        "    <tr>\n",
        "      <th>10</th>\n",
        "      <td> 41</td>\n",
        "      <td> 57</td>\n",
        "      <td>    1</td>\n",
        "      <td> 0</td>\n",
        "      <td> 0</td>\n",
        "    </tr>\n",
        "    <tr>\n",
        "      <th>11</th>\n",
        "      <td> 80</td>\n",
        "      <td> 12</td>\n",
        "      <td>    2</td>\n",
        "      <td> 0</td>\n",
        "      <td> 0</td>\n",
        "    </tr>\n",
        "    <tr>\n",
        "      <th>12</th>\n",
        "      <td> 61</td>\n",
        "      <td> 38</td>\n",
        "      <td>    2</td>\n",
        "      <td> 0</td>\n",
        "      <td> 0</td>\n",
        "    </tr>\n",
        "    <tr>\n",
        "      <th>13</th>\n",
        "      <td> 69</td>\n",
        "      <td> 23</td>\n",
        "      <td>  239</td>\n",
        "      <td> 0</td>\n",
        "      <td> 0</td>\n",
        "    </tr>\n",
        "    <tr>\n",
        "      <th>14</th>\n",
        "      <td> 12</td>\n",
        "      <td> 59</td>\n",
        "      <td>    1</td>\n",
        "      <td> 0</td>\n",
        "      <td> 0</td>\n",
        "    </tr>\n",
        "    <tr>\n",
        "      <th>15</th>\n",
        "      <td> 69</td>\n",
        "      <td> 38</td>\n",
        "      <td>   79</td>\n",
        "      <td> 0</td>\n",
        "      <td> 0</td>\n",
        "    </tr>\n",
        "    <tr>\n",
        "      <th>16</th>\n",
        "      <td> 15</td>\n",
        "      <td> 30</td>\n",
        "      <td>   15</td>\n",
        "      <td> 0</td>\n",
        "      <td> 0</td>\n",
        "    </tr>\n",
        "    <tr>\n",
        "      <th>17</th>\n",
        "      <td> 20</td>\n",
        "      <td> 75</td>\n",
        "      <td>   12</td>\n",
        "      <td> 0</td>\n",
        "      <td> 0</td>\n",
        "    </tr>\n",
        "    <tr>\n",
        "      <th>18</th>\n",
        "      <td> 41</td>\n",
        "      <td> 74</td>\n",
        "      <td>   47</td>\n",
        "      <td> 0</td>\n",
        "      <td> 0</td>\n",
        "    </tr>\n",
        "    <tr>\n",
        "      <th>19</th>\n",
        "      <td> 74</td>\n",
        "      <td>  2</td>\n",
        "      <td>    3</td>\n",
        "      <td> 0</td>\n",
        "      <td> 0</td>\n",
        "    </tr>\n",
        "    <tr>\n",
        "      <th>20</th>\n",
        "      <td> 64</td>\n",
        "      <td> 20</td>\n",
        "      <td>  532</td>\n",
        "      <td> 0</td>\n",
        "      <td> 0</td>\n",
        "    </tr>\n",
        "    <tr>\n",
        "      <th>21</th>\n",
        "      <td> 45</td>\n",
        "      <td> 78</td>\n",
        "      <td>  170</td>\n",
        "      <td> 0</td>\n",
        "      <td> 0</td>\n",
        "    </tr>\n",
        "    <tr>\n",
        "      <th>22</th>\n",
        "      <td> 50</td>\n",
        "      <td> 27</td>\n",
        "      <td>    3</td>\n",
        "      <td> 0</td>\n",
        "      <td> 0</td>\n",
        "    </tr>\n",
        "    <tr>\n",
        "      <th>23</th>\n",
        "      <td> 31</td>\n",
        "      <td> 15</td>\n",
        "      <td>   29</td>\n",
        "      <td> 0</td>\n",
        "      <td> 0</td>\n",
        "    </tr>\n",
        "    <tr>\n",
        "      <th>24</th>\n",
        "      <td>  1</td>\n",
        "      <td> 40</td>\n",
        "      <td>   10</td>\n",
        "      <td> 0</td>\n",
        "      <td> 0</td>\n",
        "    </tr>\n",
        "  </tbody>\n",
        "</table>\n",
        "</div>"
       ],
       "metadata": {},
       "output_type": "pyout",
       "prompt_number": 98,
       "text": [
        "    source  target  total_freq  2007-09-05  2007-09-19\n",
        "0       31       6          27           0           0\n",
        "1       14      74          20           0           0\n",
        "2        4      36        2876           0           0\n",
        "3        8      63         126           0           0\n",
        "4       46      12           8           0           0\n",
        "5       29      44         519           0           0\n",
        "6       68      25           5           0           0\n",
        "7       36      34          68           0           0\n",
        "8        2      78           3           0           0\n",
        "9       58      19           8           0           0\n",
        "10      41      57           1           0           0\n",
        "11      80      12           2           0           0\n",
        "12      61      38           2           0           0\n",
        "13      69      23         239           0           0\n",
        "14      12      59           1           0           0\n",
        "15      69      38          79           0           0\n",
        "16      15      30          15           0           0\n",
        "17      20      75          12           0           0\n",
        "18      41      74          47           0           0\n",
        "19      74       2           3           0           0\n",
        "20      64      20         532           0           0\n",
        "21      45      78         170           0           0\n",
        "22      50      27           3           0           0\n",
        "23      31      15          29           0           0\n",
        "24       1      40          10           0           0"
       ]
      }
     ],
     "prompt_number": 98
    },
    {
     "cell_type": "code",
     "collapsed": false,
     "input": [
      "proxpair_df.to_csv('proximity-time-series.csv')"
     ],
     "language": "python",
     "metadata": {},
     "outputs": [],
     "prompt_number": 99
    },
    {
     "cell_type": "code",
     "collapsed": false,
     "input": [],
     "language": "python",
     "metadata": {},
     "outputs": []
    }
   ],
   "metadata": {}
  }
 ]
}