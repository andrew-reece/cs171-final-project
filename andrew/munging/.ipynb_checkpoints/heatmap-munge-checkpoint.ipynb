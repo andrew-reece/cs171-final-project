{
 "metadata": {
  "name": ""
 },
 "nbformat": 3,
 "nbformat_minor": 0,
 "worksheets": [
  {
   "cells": [
    {
     "cell_type": "code",
     "collapsed": false,
     "input": [
      "# import modules\n",
      "import pandas as pd\n",
      "import numpy as np\n",
      "import datetime"
     ],
     "language": "python",
     "metadata": {},
     "outputs": [],
     "prompt_number": 2
    },
    {
     "cell_type": "code",
     "collapsed": false,
     "input": [
      "# load data\n",
      "\n",
      "# the original version is done using:\n",
      "#  series:   communications data\n",
      "#  pairwise: liberal-conservative self-identification by subjects\n",
      "\n",
      "# but we can sub in any time series and pairwise data, \n",
      "# as most functionality is implemented as callable routines\n",
      "\n",
      "calldata = pd.io.parsers.read_csv('../data/com-pairs.csv')\n",
      "subjects = pd.io.parsers.read_csv('../data/subjects-master.csv')"
     ],
     "language": "python",
     "metadata": {},
     "outputs": [],
     "prompt_number": 3
    },
    {
     "cell_type": "code",
     "collapsed": false,
     "input": [
      "# make_time_array()\n",
      "# modified from andrew-munging-2...here it hard codes start/end dates\n",
      "\n",
      "def make_time_array(period):\n",
      "    \n",
      "    mintime = datetime.date(2008, 10, 1)\n",
      "    maxtime = datetime.date(2009, 6, 24)\n",
      "    jump = datetime.timedelta(days=period) # sets time jump to period argument\n",
      "    \n",
      "    # create array of two-week jumps from study start to study end\n",
      "    time_array = []\n",
      "    current_time = mintime\n",
      "    while current_time < maxtime:\n",
      "        time_array.append(current_time)\n",
      "        current_time += jump\n",
      "\n",
      "    return time_array\n"
     ],
     "language": "python",
     "metadata": {},
     "outputs": [],
     "prompt_number": 159
    },
    {
     "cell_type": "code",
     "collapsed": false,
     "input": [
      "time_array = make_time_array(14)"
     ],
     "language": "python",
     "metadata": {},
     "outputs": [],
     "prompt_number": 178
    },
    {
     "cell_type": "code",
     "collapsed": false,
     "input": [
      "# attr_df = df of subject attributes (politics, music, etc)\n",
      "# series_df = df of time series variable (proximity or communication)\n",
      "# times = array of time intervals across time series data\n",
      "\n",
      "def make_pairwise_attr_groups(attr_df, attr, series_df, times):\n",
      "    \n",
      "    cols = range(0,len(times))\n",
      "    time_series = []\n",
      "    \n",
      "    for idx in cols:\n",
      "        \n",
      "        # colnames of series_df are datetime strings, so we format them from times array\n",
      "        colname = datetime.datetime.strftime(times[idx],\"%Y-%m-%d\")\n",
      "        prev_colname = datetime.datetime.strftime(times[idx-1],\"%Y-%m-%d\")\n",
      "        \n",
      "        # if first iteration, then there won't be a previous column...\n",
      "        prev_val = series_df[prev_colname] if idx > 0 else 0\n",
      "        \n",
      "        # only get pairwise data which changed from previous timepoint\n",
      "        updated = series_df.ix[series_df[colname] > prev_val, [\"source\",\"target\"]]\n",
      "    \n",
      "        pairs = []\n",
      "        for idx, row in updated.iterrows():\n",
      "            user1 = row[0]\n",
      "            user2 = row[1]\n",
      "            # get libcon status for each user\n",
      "            user1_libcon = attr_df.ix[attr_df.user_id == user1, attr].values\n",
      "            user2_libcon = attr_df.ix[attr_df.user_id == user2, attr].values\n",
      "    \n",
      "            # if both users have libcon status, then enter as instance of pairwise libcon occur.\n",
      "            if (len(user1_libcon) > 0) and (len(user2_libcon) > 0):\n",
      "                pairwise_libcon = ''.join([user1_libcon[0],\"-\",user2_libcon[0]])\n",
      "                pairs.append(pairwise_libcon)\n",
      "                \n",
      "        df = pd.DataFrame(pairs)\n",
      "        colname = ''.join([attr,'_pairs'])\n",
      "        df.columns = [colname]\n",
      "        time_series.append(df.groupby(colname).groups)\n",
      "        \n",
      "    return time_series"
     ],
     "language": "python",
     "metadata": {},
     "outputs": [],
     "prompt_number": 161
    },
    {
     "cell_type": "code",
     "collapsed": false,
     "input": [
      "# for pairwise libcon communication\n",
      "time_series = make_pairwise_attr_groups(subjects, \"libcon\", calldata, time_array)"
     ],
     "language": "python",
     "metadata": {},
     "outputs": [],
     "prompt_number": 164
    },
    {
     "cell_type": "code",
     "collapsed": false,
     "input": [
      "# makes heatmap matrix\n",
      "# indices = pairwise category combos\n",
      "# columns = time intervals across time series\n",
      "\n",
      "def make_heatmap(series, cats, col_len, colnames):\n",
      "    pairs = []\n",
      "    for i in cats:\n",
      "        for j in cats:\n",
      "            pairs.append(''.join([i,'-',j]))\n",
      "    filler = np.zeros((len(pairs),col_len))\n",
      "    heatmap = pd.DataFrame(columns = colnames, index = pairs, data=filler)\n",
      "    \n",
      "    for idx, col in enumerate(series):\n",
      "        for key, val in col.iteritems():\n",
      "            heatmap.ix[key,idx] = len(val)\n",
      "    return heatmap"
     ],
     "language": "python",
     "metadata": {},
     "outputs": [],
     "prompt_number": 175
    },
    {
     "cell_type": "code",
     "collapsed": false,
     "input": [
      "# make_heatmap() needs a list of categories to make pairwise row indices \n",
      "\n",
      "# here we get the heatmap for libcon data\n",
      "libcon_range = [\"CON3\", \"CON2\", \"CON1\", \"NEUT\", \"LIB1\", \"LIB2\", \"LIB3\"]\n",
      "\n",
      "# make the heatmap\n",
      "heatmap = make_heatmap(time_series, libcon_range, len(cols), time_array)"
     ],
     "language": "python",
     "metadata": {},
     "outputs": [],
     "prompt_number": 176
    },
    {
     "cell_type": "code",
     "collapsed": false,
     "input": [
      "# save to csv\n",
      "heatmap.to_csv(\"../data/libcon-heatmap.csv\", float_format=\"%.0f\", index_label=\"pairname\")\n",
      "\n",
      "# float_format is used here as otherwise values get a decimal placeholder\n",
      "# index_label gives the index column a header name"
     ],
     "language": "python",
     "metadata": {},
     "outputs": [],
     "prompt_number": 177
    }
   ],
   "metadata": {}
  }
 ]
}