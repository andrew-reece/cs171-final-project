{
 "metadata": {
  "name": ""
 },
 "nbformat": 3,
 "nbformat_minor": 0,
 "worksheets": [
  {
   "cells": [
    {
     "cell_type": "code",
     "collapsed": false,
     "input": [
      "# import modules\n",
      "import pandas as pd\n",
      "import numpy as np\n",
      "import re\n",
      "import datetime\n",
      "import itertools as it"
     ],
     "language": "python",
     "metadata": {},
     "outputs": [],
     "prompt_number": 63
    },
    {
     "cell_type": "code",
     "collapsed": false,
     "input": [
      "# load relationship data (formatted from relationships1.R)\n",
      "df = pd.io.parsers.read_csv('../../data/relationships2.csv')"
     ],
     "language": "python",
     "metadata": {},
     "outputs": [],
     "prompt_number": 145
    },
    {
     "cell_type": "code",
     "collapsed": false,
     "input": [
      "# leave out source/target cols\n",
      "df = df.iloc[:,2:]\n",
      "# replace NaN with ''\n",
      "df = df.fillna('')"
     ],
     "language": "python",
     "metadata": {},
     "outputs": [],
     "prompt_number": 146
    },
    {
     "cell_type": "code",
     "collapsed": false,
     "input": [
      "labels = ['','BlogLivejournalTwitter','FacebookAllTaggedPhotos','PoliticalDiscussant','SocializeTwicePerWeek','CloseFriend']\n",
      "\n",
      "master = []\n",
      "\n",
      "# group by subject pairs\n",
      "for g in df.groupby('pairs'):\n",
      "\n",
      "    # vals contains all survey answers\n",
      "    vals = g[1] \n",
      "    # row compiles the row values for each subject pair\n",
      "    row = [g[0]]\n",
      "\n",
      "    # iterate through all survey answers for a pair\n",
      "    for col in vals.columns[1:]:\n",
      "        found = False\n",
      "        # go through all values in each column\n",
      "        # each column is a date the survey was given\n",
      "        # there should only be one survey answer in each column, although this isn't always so\n",
      "        for x in vals[col]:\n",
      "            # we're looking for non-empty cells\n",
      "            if isinstance(x,str):                 \n",
      "                found = True\n",
      "                # if found, replace the actual string with an ordinal rank 1-5 (5=best)\n",
      "                # it's not clear that these categories are ordinal, but we're making them so\n",
      "                rel_value = [idx for idx, val in enumerate(labels) if x == val][0]\n",
      "                # append this new ranking to the row for that subject pair\n",
      "                row.append(rel_value)\n",
      "                break\n",
      "        # if the entire column in blank, add an empty space for that survey date\n",
      "        if not found:\n",
      "            row.append('')\n",
      "    # append each subject pair row to master\n",
      "    master.append( row )\n",
      "\n",
      "#print master\n",
      "\n",
      "# make df out of master\n",
      "df2 = pd.DataFrame(data=master, columns=df.columns.values)\n",
      "# turn NaNs to empty space\n",
      "df2 = df2.fillna('')"
     ],
     "language": "python",
     "metadata": {},
     "outputs": [],
     "prompt_number": 187
    },
    {
     "cell_type": "code",
     "collapsed": false,
     "input": [
      "# write to csv\n",
      "df2.to_csv('../data/relations.csv', index=False)"
     ],
     "language": "python",
     "metadata": {},
     "outputs": [],
     "prompt_number": 189
    }
   ],
   "metadata": {}
  }
 ]
}