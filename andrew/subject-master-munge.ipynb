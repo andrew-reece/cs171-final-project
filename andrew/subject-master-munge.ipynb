{
 "metadata": {
  "name": ""
 },
 "nbformat": 3,
 "nbformat_minor": 0,
 "worksheets": [
  {
   "cells": [
    {
     "cell_type": "code",
     "collapsed": false,
     "input": [
      "# import modules\n",
      "import pandas as pd\n",
      "import numpy as np\n",
      "import re\n",
      "import datetime\n",
      "import math"
     ],
     "language": "python",
     "metadata": {},
     "outputs": [],
     "prompt_number": 1
    },
    {
     "cell_type": "code",
     "collapsed": false,
     "input": [
      "politics = pd.io.parsers.read_csv('../data/Politics.csv')\n",
      "health = pd.io.parsers.read_csv('../data/Health.csv')\n",
      "flu = pd.io.parsers.read_csv('../data/FluSymptoms.csv')\n",
      "music = pd.io.parsers.read_csv('../data/MusicGenrePreference.csv')\n",
      "subjects = pd.io.parsers.read_csv('../data/Subjects.csv')\n"
     ],
     "language": "python",
     "metadata": {},
     "outputs": [],
     "prompt_number": 168
    },
    {
     "cell_type": "code",
     "collapsed": false,
     "input": [
      "def format_score(score):\n",
      "    #print type(score)\n",
      "    if (type(score) == float):\n",
      "        return 0\n",
      "    else:\n",
      "        return int(str(score)[:1])\n",
      "    "
     ],
     "language": "python",
     "metadata": {},
     "outputs": [],
     "prompt_number": 169
    },
    {
     "cell_type": "code",
     "collapsed": false,
     "input": [
      "# Music: \n",
      "\n",
      "# format scores into Ints\n",
      "music[\"score\"] = music[\"score\"].apply(lambda x: format_score(x))\n"
     ],
     "language": "python",
     "metadata": {},
     "outputs": [],
     "prompt_number": 170
    },
    {
     "cell_type": "code",
     "collapsed": false,
     "input": [
      "def get_top_genre(user):\n",
      "    \n",
      "    idxmax = user[\"score\"].idxmax(axis=0)\n",
      "    return user.ix[idxmax,\"genre\"]"
     ],
     "language": "python",
     "metadata": {},
     "outputs": [],
     "prompt_number": 261
    },
    {
     "cell_type": "code",
     "collapsed": false,
     "input": [
      "# Music:\n",
      "\n",
      "music=music.rename(columns = {'user.id':'user_id'})\n",
      "# group by user, genre, take avg\n",
      "music_subset = music.groupby([\"user_id\",\"genre\"])[\"score\"].mean().reset_index()\n",
      "\n",
      "music_subset2 = music_subset.groupby([\"user_id\"], sort=False, as_index=False).apply(lambda x: get_top_genre(x)).reset_index()\n",
      "music_subset2.columns = [\"user_id\", \"fav_music\"]"
     ],
     "language": "python",
     "metadata": {},
     "outputs": [],
     "prompt_number": 226
    },
    {
     "cell_type": "code",
     "collapsed": false,
     "input": [
      "# Flu: average depression, stress scores across study (could do bi-weekly...but is it worth it?)\n",
      "flu_subset = np.around(flu.groupby([\"user_id\"])[\"sad.depressed\",\"open.stressed\"].mean().reset_index(),1)\n"
     ],
     "language": "python",
     "metadata": {},
     "outputs": [],
     "prompt_number": 97
    },
    {
     "cell_type": "code",
     "collapsed": false,
     "input": [
      "# Health: we only use average hrs aerobic workout per week\n",
      "health_subset = np.around(health.groupby([\"user_id\"])[\"aerobic_per_week\"].mean().reset_index(),1)\n"
     ],
     "language": "python",
     "metadata": {},
     "outputs": [],
     "prompt_number": 98
    },
    {
     "cell_type": "code",
     "collapsed": false,
     "input": [
      "# Politics: party and lib/consv identification\n",
      "cols = ['user_id', 'preferred_party','liberal_or_conservative']\n",
      "pol_subset =  politics.ix[politics['survey.month']==politics['survey.month'][0], cols]\n"
     ],
     "language": "python",
     "metadata": {},
     "outputs": []
    },
    {
     "cell_type": "code",
     "collapsed": false,
     "input": [
      "# here we use merge(), which is only two at a time\n",
      "# join() allows for multiple dfs at once, but it requires join-on-index\n",
      "# since here we are joining on user_id, we do merge, step-by-step\n",
      "# (it may be that we can set it so that index is equivalent to user_id, but we didn't try.)\n",
      "\n",
      "temp1 = pd.merge(subjects,health_subset,on=\"user_id\")\n",
      "temp2 = pd.merge(temp1,pol_subset,on=\"user_id\")\n",
      "temp3 = pd.merge(temp2,flu_subset,on=\"user_id\")\n",
      "temp4 = pd.merge(temp3,music_subset2,on=\"user_id\")\n"
     ],
     "language": "python",
     "metadata": {},
     "outputs": [
      {
       "html": [
        "<div style=\"max-height:1000px;max-width:1500px;overflow:auto;\">\n",
        "<table border=\"1\" class=\"dataframe\">\n",
        "  <thead>\n",
        "    <tr style=\"text-align: right;\">\n",
        "      <th></th>\n",
        "      <th>user_id</th>\n",
        "      <th>year_school</th>\n",
        "      <th>floor</th>\n",
        "      <th>aerobic_per_week</th>\n",
        "      <th>preferred_party</th>\n",
        "      <th>liberal_or_conservative</th>\n",
        "      <th>sad.depressed</th>\n",
        "      <th>open.stressed</th>\n",
        "      <th>fav_music</th>\n",
        "    </tr>\n",
        "  </thead>\n",
        "  <tbody>\n",
        "    <tr>\n",
        "      <th>0</th>\n",
        "      <td> 2</td>\n",
        "      <td>  Freshman</td>\n",
        "      <td> f282.4</td>\n",
        "      <td> 3.5</td>\n",
        "      <td> Member of another party</td>\n",
        "      <td>           Liberal</td>\n",
        "      <td> 0.4</td>\n",
        "      <td> 0.2</td>\n",
        "      <td>       heavy metal / hardcore</td>\n",
        "    </tr>\n",
        "    <tr>\n",
        "      <th>1</th>\n",
        "      <td> 4</td>\n",
        "      <td> Sophomore</td>\n",
        "      <td> f282.1</td>\n",
        "      <td> 0.8</td>\n",
        "      <td>                Democrat</td>\n",
        "      <td>           Liberal</td>\n",
        "      <td> 0.0</td>\n",
        "      <td> 0.0</td>\n",
        "      <td>                         jazz</td>\n",
        "    </tr>\n",
        "    <tr>\n",
        "      <th>2</th>\n",
        "      <td> 5</td>\n",
        "      <td>  Freshman</td>\n",
        "      <td> f282.3</td>\n",
        "      <td> 0.8</td>\n",
        "      <td>             Independent</td>\n",
        "      <td>  Slightly liberal</td>\n",
        "      <td> 0.0</td>\n",
        "      <td> 0.0</td>\n",
        "      <td>                    classical</td>\n",
        "    </tr>\n",
        "    <tr>\n",
        "      <th>3</th>\n",
        "      <td> 6</td>\n",
        "      <td> Sophomore</td>\n",
        "      <td> f282.3</td>\n",
        "      <td> 3.0</td>\n",
        "      <td>                Democrat</td>\n",
        "      <td> Extremely liberal</td>\n",
        "      <td> 0.5</td>\n",
        "      <td> 0.8</td>\n",
        "      <td> techno / lounge / electronic</td>\n",
        "    </tr>\n",
        "    <tr>\n",
        "      <th>4</th>\n",
        "      <td> 7</td>\n",
        "      <td>    Junior</td>\n",
        "      <td> f282.1</td>\n",
        "      <td> 1.0</td>\n",
        "      <td>                Democrat</td>\n",
        "      <td>           Liberal</td>\n",
        "      <td> 0.0</td>\n",
        "      <td> 0.0</td>\n",
        "      <td>     indie / alternative rock</td>\n",
        "    </tr>\n",
        "  </tbody>\n",
        "</table>\n",
        "</div>"
       ],
       "metadata": {},
       "output_type": "pyout",
       "prompt_number": 268,
       "text": [
        "   user_id year_school   floor  aerobic_per_week          preferred_party  \\\n",
        "0        2    Freshman  f282.4               3.5  Member of another party   \n",
        "1        4   Sophomore  f282.1               0.8                 Democrat   \n",
        "2        5    Freshman  f282.3               0.8              Independent   \n",
        "3        6   Sophomore  f282.3               3.0                 Democrat   \n",
        "4        7      Junior  f282.1               1.0                 Democrat   \n",
        "\n",
        "  liberal_or_conservative  sad.depressed  open.stressed  \\\n",
        "0                 Liberal            0.4            0.2   \n",
        "1                 Liberal            0.0            0.0   \n",
        "2        Slightly liberal            0.0            0.0   \n",
        "3       Extremely liberal            0.5            0.8   \n",
        "4                 Liberal            0.0            0.0   \n",
        "\n",
        "                      fav_music  \n",
        "0        heavy metal / hardcore  \n",
        "1                          jazz  \n",
        "2                     classical  \n",
        "3  techno / lounge / electronic  \n",
        "4      indie / alternative rock  "
       ]
      }
     ],
     "prompt_number": 268
    },
    {
     "cell_type": "code",
     "collapsed": false,
     "input": [
      "final_subjects = temp4\n",
      "final_subjects.to_csv(\"snugglers.csv\")"
     ],
     "language": "python",
     "metadata": {},
     "outputs": [],
     "prompt_number": 269
    },
    {
     "cell_type": "code",
     "collapsed": false,
     "input": [],
     "language": "python",
     "metadata": {},
     "outputs": []
    }
   ],
   "metadata": {}
  }
 ]
}