{
 "metadata": {
  "name": ""
 },
 "nbformat": 3,
 "nbformat_minor": 0,
 "worksheets": [
  {
   "cells": [
    {
     "cell_type": "code",
     "collapsed": false,
     "input": [
      "import pandas as pd\n",
      "import numpy as np\n",
      "import re\n",
      "import datetime"
     ],
     "language": "python",
     "metadata": {},
     "outputs": [],
     "prompt_number": 13
    },
    {
     "cell_type": "code",
     "collapsed": false,
     "input": [
      "proxdata = pd.io.parsers.read_csv('../data/Proximity.csv')\n",
      "calldata = pd.io.parsers.read_csv('../data/Calls.csv')\n",
      "smsdata = pd.io.parsers.read_csv('../data/SMS.csv')"
     ],
     "language": "python",
     "metadata": {},
     "outputs": [],
     "prompt_number": 2
    },
    {
     "cell_type": "code",
     "collapsed": false,
     "input": [
      "smsdata.columns = [\"user_id\",\"time\",\"incoming\",\"dest_user_id_if_known\",\"dest_phone_hash\"]\n",
      "smsdata['type'] = ['sms']*len(smsdata)\n",
      "calldata['type'] = ['call']*len(calldata)\n",
      "calldata=calldata.rename(columns = {'time_stamp':'time'})"
     ],
     "language": "python",
     "metadata": {},
     "outputs": [],
     "prompt_number": 3
    },
    {
     "cell_type": "code",
     "collapsed": false,
     "input": [
      "smsdata.head()"
     ],
     "language": "python",
     "metadata": {},
     "outputs": [
      {
       "html": [
        "<div style=\"max-height:1000px;max-width:1500px;overflow:auto;\">\n",
        "<table border=\"1\" class=\"dataframe\">\n",
        "  <thead>\n",
        "    <tr style=\"text-align: right;\">\n",
        "      <th></th>\n",
        "      <th>user_id</th>\n",
        "      <th>time</th>\n",
        "      <th>incoming</th>\n",
        "      <th>dest_user_id_if_known</th>\n",
        "      <th>dest_phone_hash</th>\n",
        "      <th>type</th>\n",
        "    </tr>\n",
        "  </thead>\n",
        "  <tbody>\n",
        "    <tr>\n",
        "      <th>0</th>\n",
        "      <td> 61</td>\n",
        "      <td> 2008-01-01 15:00:25</td>\n",
        "      <td> 0</td>\n",
        "      <td>  1</td>\n",
        "      <td> 3502965008</td>\n",
        "      <td> sms</td>\n",
        "    </tr>\n",
        "    <tr>\n",
        "      <th>1</th>\n",
        "      <td> 61</td>\n",
        "      <td> 2008-01-01 15:00:25</td>\n",
        "      <td> 0</td>\n",
        "      <td> 61</td>\n",
        "      <td> 3480933661</td>\n",
        "      <td> sms</td>\n",
        "    </tr>\n",
        "    <tr>\n",
        "      <th>2</th>\n",
        "      <td> 61</td>\n",
        "      <td> 2008-01-01 15:00:25</td>\n",
        "      <td> 1</td>\n",
        "      <td>  1</td>\n",
        "      <td> 3502965008</td>\n",
        "      <td> sms</td>\n",
        "    </tr>\n",
        "    <tr>\n",
        "      <th>3</th>\n",
        "      <td> 61</td>\n",
        "      <td> 2008-01-01 15:00:25</td>\n",
        "      <td> 1</td>\n",
        "      <td>NaN</td>\n",
        "      <td>     177622</td>\n",
        "      <td> sms</td>\n",
        "    </tr>\n",
        "    <tr>\n",
        "      <th>4</th>\n",
        "      <td> 61</td>\n",
        "      <td> 2008-01-01 15:00:25</td>\n",
        "      <td> 1</td>\n",
        "      <td> 61</td>\n",
        "      <td> 3480933661</td>\n",
        "      <td> sms</td>\n",
        "    </tr>\n",
        "  </tbody>\n",
        "</table>\n",
        "</div>"
       ],
       "metadata": {},
       "output_type": "pyout",
       "prompt_number": 4,
       "text": [
        "   user_id                 time  incoming  dest_user_id_if_known  \\\n",
        "0       61  2008-01-01 15:00:25         0                      1   \n",
        "1       61  2008-01-01 15:00:25         0                     61   \n",
        "2       61  2008-01-01 15:00:25         1                      1   \n",
        "3       61  2008-01-01 15:00:25         1                    NaN   \n",
        "4       61  2008-01-01 15:00:25         1                     61   \n",
        "\n",
        "  dest_phone_hash type  \n",
        "0      3502965008  sms  \n",
        "1      3480933661  sms  \n",
        "2      3502965008  sms  \n",
        "3          177622  sms  \n",
        "4      3480933661  sms  "
       ]
      }
     ],
     "prompt_number": 4
    },
    {
     "cell_type": "code",
     "collapsed": false,
     "input": [
      "calldata.head()"
     ],
     "language": "python",
     "metadata": {},
     "outputs": [
      {
       "html": [
        "<div style=\"max-height:1000px;max-width:1500px;overflow:auto;\">\n",
        "<table border=\"1\" class=\"dataframe\">\n",
        "  <thead>\n",
        "    <tr style=\"text-align: right;\">\n",
        "      <th></th>\n",
        "      <th>user_id</th>\n",
        "      <th>time</th>\n",
        "      <th>duration</th>\n",
        "      <th>dest_user_id_if_known</th>\n",
        "      <th>dest_phone_hash</th>\n",
        "      <th>type</th>\n",
        "    </tr>\n",
        "  </thead>\n",
        "  <tbody>\n",
        "    <tr>\n",
        "      <th>0</th>\n",
        "      <td> 19</td>\n",
        "      <td> 2008-10-02 22:04:28</td>\n",
        "      <td>  15</td>\n",
        "      <td>NaN</td>\n",
        "      <td> 2088297235</td>\n",
        "      <td> call</td>\n",
        "    </tr>\n",
        "    <tr>\n",
        "      <th>1</th>\n",
        "      <td> 19</td>\n",
        "      <td> 2008-10-02 22:03:57</td>\n",
        "      <td>  17</td>\n",
        "      <td>NaN</td>\n",
        "      <td> 2088297235</td>\n",
        "      <td> call</td>\n",
        "    </tr>\n",
        "    <tr>\n",
        "      <th>2</th>\n",
        "      <td> 19</td>\n",
        "      <td> 2008-10-03 00:42:55</td>\n",
        "      <td> 421</td>\n",
        "      <td>NaN</td>\n",
        "      <td> 2939471263</td>\n",
        "      <td> call</td>\n",
        "    </tr>\n",
        "    <tr>\n",
        "      <th>3</th>\n",
        "      <td> 19</td>\n",
        "      <td> 2008-10-03 00:42:06</td>\n",
        "      <td>   0</td>\n",
        "      <td>NaN</td>\n",
        "      <td> 2088297235</td>\n",
        "      <td> call</td>\n",
        "    </tr>\n",
        "    <tr>\n",
        "      <th>4</th>\n",
        "      <td> 19</td>\n",
        "      <td> 2008-10-03 03:47:31</td>\n",
        "      <td>  47</td>\n",
        "      <td> 18</td>\n",
        "      <td> 3620995333</td>\n",
        "      <td> call</td>\n",
        "    </tr>\n",
        "  </tbody>\n",
        "</table>\n",
        "</div>"
       ],
       "metadata": {},
       "output_type": "pyout",
       "prompt_number": 5,
       "text": [
        "   user_id                 time  duration  dest_user_id_if_known  \\\n",
        "0       19  2008-10-02 22:04:28        15                    NaN   \n",
        "1       19  2008-10-02 22:03:57        17                    NaN   \n",
        "2       19  2008-10-03 00:42:55       421                    NaN   \n",
        "3       19  2008-10-03 00:42:06         0                    NaN   \n",
        "4       19  2008-10-03 03:47:31        47                     18   \n",
        "\n",
        "  dest_phone_hash  type  \n",
        "0      2088297235  call  \n",
        "1      2088297235  call  \n",
        "2      2939471263  call  \n",
        "3      2088297235  call  \n",
        "4      3620995333  call  "
       ]
      }
     ],
     "prompt_number": 5
    },
    {
     "cell_type": "code",
     "collapsed": false,
     "input": [
      "comdata = pd.concat([calldata, smsdata])\n",
      " \n",
      "comdata=comdata.rename(columns = {'dest_user_id_if_known':'target_id'})"
     ],
     "language": "python",
     "metadata": {},
     "outputs": [],
     "prompt_number": 6
    },
    {
     "cell_type": "code",
     "collapsed": false,
     "input": [
      "comdata.head()\n",
      "comdata = comdata.reset_index()\n"
     ],
     "language": "python",
     "metadata": {},
     "outputs": [],
     "prompt_number": 23
    },
    {
     "cell_type": "code",
     "collapsed": false,
     "input": [
      "# this is a working datetime object formatter! (mar 31pm)\n",
      "print comdata.ix[0,'time']\n",
      "test = datetime.datetime.strptime(comdata.ix[0,'time'], \"%Y-%m-%d %H:%M:%S\")\n",
      "print test "
     ],
     "language": "python",
     "metadata": {},
     "outputs": [
      {
       "output_type": "stream",
       "stream": "stdout",
       "text": [
        "2008-10-02 22:04:28\n",
        "2008-10-02 22:04:28\n"
       ]
      }
     ],
     "prompt_number": 29
    },
    {
     "cell_type": "code",
     "collapsed": false,
     "input": [
      "comtable = set()\n",
      "\n",
      "for idx, row in comdata.iterrows():\n",
      "\n",
      "    if (not np.isnan(row['user_id'])) and (not np.isnan(row['target_id'])):\n",
      "        \n",
      "        newtuple = (row['user_id'], row['target_id'])\n",
      "\n",
      "        comtable.add( newtuple )\n"
     ],
     "language": "python",
     "metadata": {},
     "outputs": [],
     "prompt_number": 8
    },
    {
     "cell_type": "code",
     "collapsed": false,
     "input": [
      "pairs = []\n",
      "for pair in comtable:\n",
      "    pairs.append( { 'source':pair[0], 'target':pair[1], 'freq':0 } )\n",
      "pair_df = pd.DataFrame(pairs)"
     ],
     "language": "python",
     "metadata": {},
     "outputs": [],
     "prompt_number": 9
    },
    {
     "cell_type": "code",
     "collapsed": false,
     "input": [
      "pair_df.head()"
     ],
     "language": "python",
     "metadata": {},
     "outputs": [
      {
       "html": [
        "<div style=\"max-height:1000px;max-width:1500px;overflow:auto;\">\n",
        "<table border=\"1\" class=\"dataframe\">\n",
        "  <thead>\n",
        "    <tr style=\"text-align: right;\">\n",
        "      <th></th>\n",
        "      <th>freq</th>\n",
        "      <th>source</th>\n",
        "      <th>target</th>\n",
        "    </tr>\n",
        "  </thead>\n",
        "  <tbody>\n",
        "    <tr>\n",
        "      <th>0</th>\n",
        "      <td> 0</td>\n",
        "      <td> 32</td>\n",
        "      <td> 54</td>\n",
        "    </tr>\n",
        "    <tr>\n",
        "      <th>1</th>\n",
        "      <td> 0</td>\n",
        "      <td> 14</td>\n",
        "      <td> 74</td>\n",
        "    </tr>\n",
        "    <tr>\n",
        "      <th>2</th>\n",
        "      <td> 0</td>\n",
        "      <td> 36</td>\n",
        "      <td> 68</td>\n",
        "    </tr>\n",
        "    <tr>\n",
        "      <th>3</th>\n",
        "      <td> 0</td>\n",
        "      <td> 22</td>\n",
        "      <td> 19</td>\n",
        "    </tr>\n",
        "    <tr>\n",
        "      <th>4</th>\n",
        "      <td> 0</td>\n",
        "      <td> 79</td>\n",
        "      <td> 38</td>\n",
        "    </tr>\n",
        "  </tbody>\n",
        "</table>\n",
        "</div>"
       ],
       "metadata": {},
       "output_type": "pyout",
       "prompt_number": 10,
       "text": [
        "   freq  source  target\n",
        "0     0      32      54\n",
        "1     0      14      74\n",
        "2     0      36      68\n",
        "3     0      22      19\n",
        "4     0      79      38"
       ]
      }
     ],
     "prompt_number": 10
    },
    {
     "cell_type": "code",
     "collapsed": false,
     "input": [
      "for idx, com_row in comdata.iterrows():\n",
      "    \n",
      "    if len(pair_df.ix[(pair_df['source']==com_row['user_id']) & (pair_df['target']==com_row['target_id'])]) > 0:\n",
      "\n",
      "        pair_df.ix[(pair_df['source']==com_row['user_id']) & (pair_df['target']==com_row['target_id']), 'freq'] += 1\n",
      "                              \n",
      "                              "
     ],
     "language": "python",
     "metadata": {},
     "outputs": [],
     "prompt_number": 11
    },
    {
     "cell_type": "code",
     "collapsed": false,
     "input": [
      "pair_df.head()"
     ],
     "language": "python",
     "metadata": {},
     "outputs": [
      {
       "html": [
        "<div style=\"max-height:1000px;max-width:1500px;overflow:auto;\">\n",
        "<table border=\"1\" class=\"dataframe\">\n",
        "  <thead>\n",
        "    <tr style=\"text-align: right;\">\n",
        "      <th></th>\n",
        "      <th>freq</th>\n",
        "      <th>source</th>\n",
        "      <th>target</th>\n",
        "    </tr>\n",
        "  </thead>\n",
        "  <tbody>\n",
        "    <tr>\n",
        "      <th>0</th>\n",
        "      <td> 15</td>\n",
        "      <td> 32</td>\n",
        "      <td> 54</td>\n",
        "    </tr>\n",
        "    <tr>\n",
        "      <th>1</th>\n",
        "      <td>  2</td>\n",
        "      <td> 14</td>\n",
        "      <td> 74</td>\n",
        "    </tr>\n",
        "    <tr>\n",
        "      <th>2</th>\n",
        "      <td> 41</td>\n",
        "      <td> 36</td>\n",
        "      <td> 68</td>\n",
        "    </tr>\n",
        "    <tr>\n",
        "      <th>3</th>\n",
        "      <td> 20</td>\n",
        "      <td> 22</td>\n",
        "      <td> 19</td>\n",
        "    </tr>\n",
        "    <tr>\n",
        "      <th>4</th>\n",
        "      <td>  7</td>\n",
        "      <td> 79</td>\n",
        "      <td> 38</td>\n",
        "    </tr>\n",
        "  </tbody>\n",
        "</table>\n",
        "</div>"
       ],
       "metadata": {},
       "output_type": "pyout",
       "prompt_number": 97,
       "text": [
        "   freq  source  target\n",
        "0    15      32      54\n",
        "1     2      14      74\n",
        "2    41      36      68\n",
        "3    20      22      19\n",
        "4     7      79      38"
       ]
      }
     ],
     "prompt_number": 97
    },
    {
     "cell_type": "code",
     "collapsed": false,
     "input": [
      "pair_df.to_csv('communication-tally-by-pair.csv')"
     ],
     "language": "python",
     "metadata": {},
     "outputs": [],
     "prompt_number": 105
    }
   ],
   "metadata": {}
  }
 ]
}